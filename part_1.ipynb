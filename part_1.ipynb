{
 "cells": [
  {
   "cell_type": "code",
   "execution_count": 34,
   "metadata": {},
   "outputs": [],
   "source": [
    "import random\n",
    "import numpy as np"
   ]
  },
  {
   "cell_type": "code",
   "execution_count": 81,
   "metadata": {},
   "outputs": [],
   "source": [
    "def box_D(Q_num):\n",
    "    \n",
    "    dic = {\n",
    "      \n",
    "    # question 4\n",
    "    22: 0, 23: 5, 24: 10, 25: 15, 26: 20, 27: 25, 28: 30, 29: 35, 30: 40, 31: 45, 32: 50, 33: 55, 34: 60, 35: 65, 36: 70, 37: 75, 38: 80, 39: 85, 40: 90, 41: 95, 42: 100,\n",
    "\n",
    "    # question 5\n",
    "    43: 100, 44: 95, 45: 90, 46: 85, 47: 80, 48: 75, 49: 70, 50: 65, 51: 60, 52: 55, 53: 50, 54: 45, 55: 40, 56: 35, 57: 30, 58: 25, 59: 20, 60: 15, 61: 10, 62: 5, 63: 0,\n",
    "\n",
    "    # question 6\n",
    "    64: 0, 65: 5, 66: 10, 67: 15, 68: 20, 69: 25, 70: 30, 71: 35, 72: 40, 73: 45, 74: 50, 75: 55, 76: 60, 77: 65, 78: 70, 79: 75, 80: 80, 81: 85, 82: 90, 83: 95, 84: 100,\n",
    "\n",
    "    # question 7\n",
    "    85: 100, 86: 95, 87: 90, 88: 85, 89: 80, 90: 75, 91: 70, 92: 65, 93: 60, 94: 55, 95: 50, 96: 45, 97: 40, 98: 35, 99: 30, 100: 25, 101: 20, 102: 15, 103: 10, 104: 5, 105: 0,\n",
    "\n",
    "    # question 8\n",
    "    106: 0, 107: 5, 108: 10, 109: 15, 110: 20, 111: 25, 112: 30, 113: 35, 114: 40, 115: 45, 116: 50, 117: 55, 118: 60, 119: 65, 120: 70, 121: 75, 122: 80, 123: 85, 124: 90, 125: 95, 126: 100, \n",
    "\n",
    "    # question 9\n",
    "    127: 100, 128: 95, 129: 90, 130: 85, 131: 80, 132: 75, 133: 70, 134: 65, 135: 60, 136: 55, 137: 50, 138: 45, 139: 40, 140: 35, 141: 30, 142: 25, 143: 20, 144: 15, 145: 10, 146: 5, 147: 0,\n",
    "    \n",
    "    }\n",
    "    \n",
    "    # ball num\n",
    "    red = dic[Q_num]\n",
    "    blue = 100 - red\n",
    "    \n",
    "    # text make\n",
    "    if 22 <= Q_num <= 42: #question 4\n",
    "        your_choice = \"ク\"\n",
    "    elif 43 <= Q_num <= 63: #question 5\n",
    "        your_choice = \"コ\"\n",
    "    elif 64 <= Q_num <= 84: #question 6\n",
    "        your_choice = \"シ\"\n",
    "    elif 85 <= Q_num <= 105: #question 7\n",
    "        your_choice = \"セ\"\n",
    "    elif 106 <= Q_num <= 126: #question 8\n",
    "        your_choice = \"タ\"\n",
    "    elif 127 <= Q_num <= 147: #question 9\n",
    "        your_choice = \"ツ\"\n",
    "    \n",
    "    # return\n",
    "    output_text = \"あ箱Dには赤の玉が {red} 個，青の玉が {blue} 個入っています．\".format(your_choice = your_choice, red = red, blue = blue)\n",
    "    print( output_text )\n",
    "    "
   ]
  },
  {
   "cell_type": "code",
   "execution_count": 60,
   "metadata": {},
   "outputs": [],
   "source": [
    "def question_01(Q_num):\n",
    "    \n",
    "    # stock value\n",
    "    stock_A = 10\n",
    "    stock_B_red = 12\n",
    "    stock_B_blue = 9\n",
    "    \n",
    "    # Dictionary of number of stocks\n",
    "    dic = {\n",
    "        1: [200, 175],\n",
    "        2: [200, 185],\n",
    "        3: [200, 195],\n",
    "        4: [200, 205],\n",
    "        5: [200, 215],\n",
    "        \n",
    "    }\n",
    "    \n",
    "    #output text\n",
    "    a_red = dic[Q_num][0] * stock_B_red\n",
    "    a_blue = dic[Q_num][0] * stock_B_blue\n",
    "    i = dic[Q_num][1] * stock_A\n",
    "    \n",
    "    print(\"{Q_num} が選ばれました．\".format(Q_num = Q_num))\n",
    "    print(\"あなたの回答が ア の場合，箱B1から玉を一つ取り出します．\")\n",
    "    print(\"赤が出た場合，謝礼金は {a_red} 円です.\".format(a_red = a_red))\n",
    "    print(\"青が出た場合，謝礼金は {a_blue} 円です.\".format(a_blue = a_blue))\n",
    "    print(\"あなたの回答が イ の場合，謝礼金は {i} 円です.\".format(i = i))"
   ]
  },
  {
   "cell_type": "code",
   "execution_count": 66,
   "metadata": {},
   "outputs": [],
   "source": [
    "def question_02(Q_num):\n",
    "    \n",
    "    # stock value\n",
    "    stock_A = 10\n",
    "    stock_B_red = 13\n",
    "    stock_B_blue = 8\n",
    "    \n",
    "    # Dictionary of number of stocks\n",
    "    dic = {\n",
    "        6: [200, 155],\n",
    "        7: [200, 165],\n",
    "        8: [200, 175],\n",
    "        9: [200, 185],\n",
    "        10: [200, 195],\n",
    "        11: [200, 205],\n",
    "        12: [200, 215],\n",
    "        \n",
    "    }\n",
    "    \n",
    "    #output text\n",
    "    a_red = dic[Q_num][0] * stock_B_red\n",
    "    a_blue = dic[Q_num][0] * stock_B_blue\n",
    "    i = dic[Q_num][1] * stock_A\n",
    "    \n",
    "    print(\"{Q_num} が選ばれました．\".format(Q_num = Q_num))\n",
    "    print(\"あなたの回答が ウ の場合，箱B2から玉を一つ取り出します．\")\n",
    "    print(\"赤が出た場合，謝礼金は {a_red} 円です.\".format(a_red = a_red))\n",
    "    print(\"青が出た場合，謝礼金は {a_blue} 円です.\".format(a_blue = a_blue))\n",
    "    print(\"あなたの回答が エ の場合，謝礼金は {i} 円です.\".format(i = i))"
   ]
  },
  {
   "cell_type": "code",
   "execution_count": 67,
   "metadata": {},
   "outputs": [],
   "source": [
    "def question_03(Q_num):\n",
    "    \n",
    "    # stock value\n",
    "    stock_A = 10\n",
    "    stock_B_red = 14\n",
    "    stock_B_blue = 7\n",
    "    \n",
    "    # Dictionary of number of stocks\n",
    "    dic = {\n",
    "        13: [200, 135],\n",
    "        14: [200, 145],\n",
    "        15: [200, 155],\n",
    "        16: [200, 165],\n",
    "        17: [200, 175],\n",
    "        18: [200, 185],\n",
    "        19: [200, 195],\n",
    "        20: [200, 205],\n",
    "        21: [200, 215],\n",
    "        \n",
    "    }\n",
    "    \n",
    "    #output text\n",
    "    a_red = dic[Q_num][0] * stock_B_red\n",
    "    a_blue = dic[Q_num][0] * stock_B_blue\n",
    "    i = dic[Q_num][1] * stock_A\n",
    "    \n",
    "    print(\"{Q_num} が選ばれました．\".format(Q_num = Q_num))\n",
    "    print(\"あなたの回答が オ の場合，箱B3から玉を一つ取り出します．\")\n",
    "    print(\"赤が出た場合，謝礼金は {a_red} 円です.\".format(a_red = a_red))\n",
    "    print(\"青が出た場合，謝礼金は {a_blue} 円です.\".format(a_blue = a_blue))\n",
    "    print(\"あなたの回答が カ の場合，謝礼金は {i} 円です.\".format(i = i))"
   ]
  },
  {
   "cell_type": "code",
   "execution_count": 112,
   "metadata": {},
   "outputs": [],
   "source": [
    "def question_AB(Q_num, Q_data, dic):\n",
    "    \n",
    "    # stock value\n",
    "    stock_A = 10\n",
    "    stock_B_red = Q_data[0]\n",
    "    stock_B_blue = Q_data[1]\n",
    "    num = 200\n",
    "    \n",
    "    #output text\n",
    "    a_red = num * stock_B_red\n",
    "    a_blue = num * stock_B_blue\n",
    "    i = dic[Q_num] * stock_A\n",
    "    print(dic[Q_num])\n",
    "    \n",
    "    print(\"{Q_num} が選ばれました．\".format(Q_num = Q_num))\n",
    "    print(\"あなたの回答が {left_choice} の場合，箱B{box_num}から玉を一つ取り出します．\".format(box_num = Q_data[2], left_choice = Q_data[3]))\n",
    "    print(\"赤が出た場合，謝礼金は {a_red} 円です.\".format(a_red = a_red))\n",
    "    print(\"青が出た場合，謝礼金は {a_blue} 円です.\".format(a_blue = a_blue))\n",
    "    print(\"あなたの回答が {right_choice} の場合，謝礼金は {i} 円です.\".format(i = i, right_choice = Q_data[4]))"
   ]
  },
  {
   "cell_type": "code",
   "execution_count": 113,
   "metadata": {},
   "outputs": [],
   "source": [
    "# [B_red, B_blue, box number, left choice, right choice]\n",
    "q01_data = [12, 9, 1, \"ア\", \"イ\"] \n",
    "q02_data = [13, 8, 2, \"ウ\", \"エ\"] \n",
    "q03_data = [14, 7, 3, \"オ\", \"カ\"] \n",
    "\n",
    "# Dictionary of number of stocks\n",
    "q01_dic = {1:175, 2:185, 3:195, 4:205, 5:215}\n",
    "q02_dic = {6:155, 7:165, 8:175, 9:185, 10:195, 11:205, 12:215, }\n",
    "q03_dic = {13: 135,14: 145,15: 155,16: 165,17: 175,18: 185,19: 195,20: 205,21: 215,}"
   ]
  },
  {
   "cell_type": "code",
   "execution_count": 114,
   "metadata": {},
   "outputs": [
    {
     "name": "stdout",
     "output_type": "stream",
     "text": [
      "195\n",
      "3 が選ばれました．\n",
      "あなたの回答が ア の場合，箱B1から玉を一つ取り出します．\n",
      "赤が出た場合，謝礼金は 2400 円です.\n",
      "青が出た場合，謝礼金は 1800 円です.\n",
      "あなたの回答が イ の場合，謝礼金は 1950 円です.\n"
     ]
    }
   ],
   "source": [
    "question_AB(3, q01_data, q01_dic)"
   ]
  },
  {
   "cell_type": "code",
   "execution_count": 87,
   "metadata": {},
   "outputs": [],
   "source": [
    "def question_CD(Q_num, Q_data):\n",
    "    \n",
    "    # stock value\n",
    "    num = 200\n",
    "    C_red = Q_data[0] * num\n",
    "    C_blue = Q_data[1] * num\n",
    "    D_red = Q_data[2] * num\n",
    "    D_blue = Q_data[3] * num\n",
    "    \n",
    "    #output text\n",
    "    print(\"{Q_num} が選ばれました．\".format(Q_num = Q_num))\n",
    "    print(\"あなたの回答が {left_choice} の場合，箱C{box_num}から玉を一つ取り出します．\".format(box_num = Q_data[4], left_choice = Q_data[5]))\n",
    "    print(\"赤が出た場合，謝礼金は {C_red} 円です.\".format(C_red = C_red))\n",
    "    print(\"青が出た場合，謝礼金は {C_blue} 円です.\".format(C_blue = C_blue))\n",
    "    print(\"＜!サイコロページへのリンク＞\")\n",
    "    print()\n",
    "    print(\"あなたの回答が {right_choice} の場合，箱Dから玉を一つ取り出します．\".format(right_choice = Q_data[6]))\n",
    "    box_D(Q_num)\n",
    "    print(\"赤が出た場合，謝礼金は {D_red} 円です.\".format(D_red = D_red))\n",
    "    print(\"青が出た場合，謝礼金は {D_blue} 円です.\".format(D_blue = D_blue))\n",
    "    "
   ]
  },
  {
   "cell_type": "code",
   "execution_count": 88,
   "metadata": {},
   "outputs": [
    {
     "name": "stdout",
     "output_type": "stream",
     "text": [
      "30 が選ばれました．\n",
      "あなたの回答が キ の場合，箱C1から玉を一つ取り出します．\n",
      "赤が出た場合，謝礼金は 2400 円です.\n",
      "青が出た場合，謝礼金は 1800 円です.\n",
      "＜!サイコロページへのリンク＞\n",
      "\n",
      "あなたの回答が ク の場合，箱Dから玉を一つ取り出します．\n",
      "箱Dには赤の玉が 40 個，青の玉が 60 個入っています．\n",
      "赤が出た場合，謝礼金は 2400 円です.\n",
      "青が出た場合，謝礼金は 1800 円です.\n"
     ]
    }
   ],
   "source": [
    "# question data = [C_red, C_blue, D_red, D_blue, box number, left choice, right choice]\n",
    "q04_data = \n",
    "q04_data = [12, 9, 12, 9, 1, \"キ\", \"ク\"]\n",
    "q05_data = [  9, 12, 9, 12, 1, \"ケ\", \"コ\"]\n",
    "q06_data = [13, 8, 13, 8, 2, \"サ\", \"シ\"]\n",
    "q07_data = [  8, 13, 8, 13, 2, \"ス\", \"セ\"]\n",
    "q08_data = [14, 7, 14, 7, 3, \"ソ\", \"タ\"]\n",
    "q09_data = [  7, 14, 7, 14, 3, \"チ\", \"ツ\"]\n",
    "\n",
    "\n",
    "\n",
    "\n",
    "\n",
    "\n",
    "question_CD(30, q04_data)"
   ]
  },
  {
   "cell_type": "code",
   "execution_count": null,
   "metadata": {},
   "outputs": [],
   "source": [
    "# question(1-3) data = [B_red, B_blue, box number, left choice, right choice]\n",
    "q01_data = [12, 9, 1, \"ア\", \"イ\"] \n",
    "q02_data = [13, 8, 2, \"ウ\", \"エ\"] \n",
    "q03_data = [14, 7, 3, \"オ\", \"カ\"] \n",
    "\n",
    "# question(4-9) data = [C_red, C_blue, D_red, D_blue, box number, left choice, right choice]\n",
    "q04_data = [12, 9, 12, 9, 1, \"キ\", \"ク\"]\n",
    "q05_data = [  9, 12, 9, 12, 1, \"ケ\", \"コ\"]\n",
    "q06_data = [13, 8, 13, 8, 2, \"サ\", \"シ\"]\n",
    "q07_data = [  8, 13, 8, 13, 2, \"ス\", \"セ\"]\n",
    "q08_data = [14, 7, 14, 7, 3, \"ソ\", \"タ\"]\n",
    "q09_data = [  7, 14, 7, 14, 3, \"チ\", \"ツ\"]\n",
    "\n",
    "# Dictionary of number of stocks\n",
    "q01_dic = {1:175, 2:185, 3:195, 4:205, 5:215}\n",
    "q02_dic = {6:155, 7:165, 8:175, 9:185, 10:195, 11:205, 12:215, }\n",
    "q03_dic = {13: 135,14: 145,15: 155,16: 165,17: 175,18: 185,19: 195,20: 205,21: 215,}"
   ]
  },
  {
   "cell_type": "code",
   "execution_count": 72,
   "metadata": {},
   "outputs": [
    {
     "name": "stdout",
     "output_type": "stream",
     "text": [
      "30 が選ばれました．\n",
      "あなたの回答が キ の場合，箱C1から玉を一つ取り出します．\n",
      "赤が出た場合，謝礼金は 2400 円です.\n",
      "青が出た場合，謝礼金は 1800 円です.\n",
      "\n",
      "あなたの回答が キ の場合，箱Dから玉を一つ取り出します．\n",
      "あなたの回答が ク の場合，箱Dには赤の玉が 40 個，青の玉が 60 個入っています．\n",
      "赤が出た場合，謝礼金は 2400 円です.\n",
      "青が出た場合，謝礼金は 1800 円です.\n"
     ]
    }
   ],
   "source": [
    "question_04(30)"
   ]
  },
  {
   "cell_type": "code",
   "execution_count": 69,
   "metadata": {},
   "outputs": [],
   "source": [
    "def question_04(Q_num):\n",
    "    \n",
    "    # stock value\n",
    "    num = 200\n",
    "    C_red = 12 * num\n",
    "    C_blue = 9 * num\n",
    "    D_red = 12 * num\n",
    "    D_blue = 9 * num\n",
    "    \n",
    "    #output text\n",
    "    print(\"{Q_num} が選ばれました．\".format(Q_num = Q_num))\n",
    "    print(\"あなたの回答が キ の場合，箱C1から玉を一つ取り出します．\")\n",
    "    print(\"赤が出た場合，謝礼金は {C_red} 円です.\".format(C_red = C_red))\n",
    "    print(\"青が出た場合，謝礼金は {C_blue} 円です.\".format(C_blue = C_blue))\n",
    "    print()\n",
    "    print(\"あなたの回答が ク の場合，箱Dから玉を一つ取り出します．\")\n",
    "    box_D(Q_num)\n",
    "    print(\"赤が出た場合，謝礼金は {D_red} 円です.\".format(D_red = D_red))\n",
    "    print(\"青が出た場合，謝礼金は {D_blue} 円です.\".format(D_blue = D_blue))\n",
    "    "
   ]
  },
  {
   "cell_type": "code",
   "execution_count": 68,
   "metadata": {},
   "outputs": [
    {
     "name": "stdout",
     "output_type": "stream",
     "text": [
      "13 が選ばれました．\n",
      "あなたの回答が ウ の場合，箱B3から玉を一つ取り出します．\n",
      "赤が出た場合，謝礼金は 2800 円です.\n",
      "青が出た場合，謝礼金は 1400 円です.\n",
      "あなたの回答が エ の場合，謝礼金は 1350 円です.\n",
      "\n",
      "14 が選ばれました．\n",
      "あなたの回答が ウ の場合，箱B3から玉を一つ取り出します．\n",
      "赤が出た場合，謝礼金は 2800 円です.\n",
      "青が出た場合，謝礼金は 1400 円です.\n",
      "あなたの回答が エ の場合，謝礼金は 1450 円です.\n",
      "\n",
      "15 が選ばれました．\n",
      "あなたの回答が ウ の場合，箱B3から玉を一つ取り出します．\n",
      "赤が出た場合，謝礼金は 2800 円です.\n",
      "青が出た場合，謝礼金は 1400 円です.\n",
      "あなたの回答が エ の場合，謝礼金は 1550 円です.\n",
      "\n",
      "16 が選ばれました．\n",
      "あなたの回答が ウ の場合，箱B3から玉を一つ取り出します．\n",
      "赤が出た場合，謝礼金は 2800 円です.\n",
      "青が出た場合，謝礼金は 1400 円です.\n",
      "あなたの回答が エ の場合，謝礼金は 1650 円です.\n",
      "\n",
      "17 が選ばれました．\n",
      "あなたの回答が ウ の場合，箱B3から玉を一つ取り出します．\n",
      "赤が出た場合，謝礼金は 2800 円です.\n",
      "青が出た場合，謝礼金は 1400 円です.\n",
      "あなたの回答が エ の場合，謝礼金は 1750 円です.\n",
      "\n",
      "18 が選ばれました．\n",
      "あなたの回答が ウ の場合，箱B3から玉を一つ取り出します．\n",
      "赤が出た場合，謝礼金は 2800 円です.\n",
      "青が出た場合，謝礼金は 1400 円です.\n",
      "あなたの回答が エ の場合，謝礼金は 1850 円です.\n",
      "\n",
      "19 が選ばれました．\n",
      "あなたの回答が ウ の場合，箱B3から玉を一つ取り出します．\n",
      "赤が出た場合，謝礼金は 2800 円です.\n",
      "青が出た場合，謝礼金は 1400 円です.\n",
      "あなたの回答が エ の場合，謝礼金は 1950 円です.\n",
      "\n",
      "20 が選ばれました．\n",
      "あなたの回答が ウ の場合，箱B3から玉を一つ取り出します．\n",
      "赤が出た場合，謝礼金は 2800 円です.\n",
      "青が出た場合，謝礼金は 1400 円です.\n",
      "あなたの回答が エ の場合，謝礼金は 2050 円です.\n",
      "\n",
      "21 が選ばれました．\n",
      "あなたの回答が ウ の場合，箱B3から玉を一つ取り出します．\n",
      "赤が出た場合，謝礼金は 2800 円です.\n",
      "青が出た場合，謝礼金は 1400 円です.\n",
      "あなたの回答が エ の場合，謝礼金は 2150 円です.\n",
      "\n"
     ]
    }
   ],
   "source": [
    "for n in range(13, 22):\n",
    "    question_03(n)\n",
    "    print()"
   ]
  },
  {
   "cell_type": "code",
   "execution_count": null,
   "metadata": {},
   "outputs": [],
   "source": []
  },
  {
   "cell_type": "code",
   "execution_count": null,
   "metadata": {},
   "outputs": [],
   "source": []
  },
  {
   "cell_type": "code",
   "execution_count": null,
   "metadata": {},
   "outputs": [],
   "source": []
  },
  {
   "cell_type": "code",
   "execution_count": null,
   "metadata": {},
   "outputs": [],
   "source": []
  },
  {
   "cell_type": "code",
   "execution_count": null,
   "metadata": {},
   "outputs": [],
   "source": []
  },
  {
   "cell_type": "code",
   "execution_count": null,
   "metadata": {},
   "outputs": [],
   "source": []
  },
  {
   "cell_type": "code",
   "execution_count": null,
   "metadata": {},
   "outputs": [],
   "source": []
  },
  {
   "cell_type": "code",
   "execution_count": null,
   "metadata": {},
   "outputs": [],
   "source": []
  },
  {
   "cell_type": "code",
   "execution_count": null,
   "metadata": {},
   "outputs": [],
   "source": []
  },
  {
   "cell_type": "code",
   "execution_count": null,
   "metadata": {},
   "outputs": [],
   "source": []
  },
  {
   "cell_type": "code",
   "execution_count": null,
   "metadata": {},
   "outputs": [],
   "source": []
  },
  {
   "cell_type": "code",
   "execution_count": null,
   "metadata": {},
   "outputs": [],
   "source": []
  },
  {
   "cell_type": "code",
   "execution_count": null,
   "metadata": {},
   "outputs": [],
   "source": []
  },
  {
   "cell_type": "code",
   "execution_count": 49,
   "metadata": {},
   "outputs": [
    {
     "name": "stdout",
     "output_type": "stream",
     "text": [
      "106: 0,\n",
      "107: 5,\n",
      "108: 10,\n",
      "109: 15,\n",
      "110: 20,\n",
      "111: 25,\n",
      "112: 30,\n",
      "113: 35,\n",
      "114: 40,\n",
      "115: 45,\n",
      "116: 50,\n",
      "117: 55,\n",
      "118: 60,\n",
      "119: 65,\n",
      "120: 70,\n",
      "121: 75,\n",
      "122: 80,\n",
      "123: 85,\n",
      "124: 90,\n",
      "125: 95,\n",
      "126: 100,\n"
     ]
    }
   ],
   "source": [
    "d = 0\n",
    "for i in range(106, 127):\n",
    "    print(str(i)+\": \"+str(d)+\",\")\n",
    "    d += 5"
   ]
  },
  {
   "cell_type": "code",
   "execution_count": 50,
   "metadata": {},
   "outputs": [
    {
     "name": "stdout",
     "output_type": "stream",
     "text": [
      "127: 100,\n",
      "128: 95,\n",
      "129: 90,\n",
      "130: 85,\n",
      "131: 80,\n",
      "132: 75,\n",
      "133: 70,\n",
      "134: 65,\n",
      "135: 60,\n",
      "136: 55,\n",
      "137: 50,\n",
      "138: 45,\n",
      "139: 40,\n",
      "140: 35,\n",
      "141: 30,\n",
      "142: 25,\n",
      "143: 20,\n",
      "144: 15,\n",
      "145: 10,\n",
      "146: 5,\n",
      "147: 0,\n"
     ]
    }
   ],
   "source": [
    "d = 100\n",
    "for i in range(127, 148):\n",
    "    print(str(i)+\": \"+str(d)+\",\")\n",
    "    d -= 5"
   ]
  },
  {
   "cell_type": "code",
   "execution_count": null,
   "metadata": {},
   "outputs": [],
   "source": []
  },
  {
   "cell_type": "code",
   "execution_count": 41,
   "metadata": {},
   "outputs": [
    {
     "data": {
      "text/plain": [
       "array([  0,   5,  10,  15,  20,  25,  30,  35,  40,  45,  50,  55,  60,\n",
       "        65,  70,  75,  80,  85,  90,  95, 100])"
      ]
     },
     "execution_count": 41,
     "metadata": {},
     "output_type": "execute_result"
    }
   ],
   "source": [
    "D = np.arange(0, 105, 5)\n",
    "D"
   ]
  },
  {
   "cell_type": "code",
   "execution_count": null,
   "metadata": {},
   "outputs": [],
   "source": []
  },
  {
   "cell_type": "code",
   "execution_count": null,
   "metadata": {},
   "outputs": [],
   "source": []
  },
  {
   "cell_type": "code",
   "execution_count": null,
   "metadata": {},
   "outputs": [],
   "source": [
    "def select_question():\n",
    "    \n",
    "    # Select question number\n",
    "    selected_Q_num = random.randint(1,5)\n",
    "    \n",
    "    # Dictionary of number of stocks\n",
    "    _dir = {\n",
    "        1: [200, 175],\n",
    "        2: [200, 185],\n",
    "        3: [200, 195],\n",
    "        4: [200, 205],\n",
    "        5: [200, 215],\n",
    "    }\n",
    "    \n",
    "    \n",
    "    "
   ]
  }
 ],
 "metadata": {
  "kernelspec": {
   "display_name": "Python 3",
   "language": "python",
   "name": "python3"
  },
  "language_info": {
   "codemirror_mode": {
    "name": "ipython",
    "version": 3
   },
   "file_extension": ".py",
   "mimetype": "text/x-python",
   "name": "python",
   "nbconvert_exporter": "python",
   "pygments_lexer": "ipython3",
   "version": "3.8.5"
  }
 },
 "nbformat": 4,
 "nbformat_minor": 4
}
